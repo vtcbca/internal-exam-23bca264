{
 "cells": [
  {
   "cell_type": "code",
   "execution_count": 1,
   "id": "09b10e3b-094e-419c-9760-112f33753348",
   "metadata": {},
   "outputs": [],
   "source": [
    "import csv"
   ]
  },
  {
   "cell_type": "markdown",
   "id": "ae11055a-60ba-4449-b95f-5b1c237f1867",
   "metadata": {},
   "source": [
    "## READ CSV FILE\n"
   ]
  },
  {
   "cell_type": "code",
   "execution_count": 3,
   "id": "27419336-3912-4326-8093-b5cd7f42f769",
   "metadata": {},
   "outputs": [
    {
     "name": "stdout",
     "output_type": "stream",
     "text": [
      "['eid', 'ename', 'dept', 'basic', 'branch']\n",
      "['1', 'Rohit', 'IT', '45000', 'Surat']\n",
      "['2', 'Virat', 'ACCOUNT', '40000', 'Baroda']\n",
      "['3', 'SHreayanka', 'HR', '60000', 'Surat']\n",
      "['4', 'Jassi', 'Inventory', '50000', 'Bardoli']\n",
      "['5', 'Smriti', 'IT', '40000', 'Surat']\n"
     ]
    }
   ],
   "source": [
    "with open('D:/INTERNAL/sqlite3/emp.csv','r') as f:\n",
    "    csv_read=csv.reader(f)\n",
    "    for r in csv_read:\n",
    "        print(r)"
   ]
  },
  {
   "cell_type": "code",
   "execution_count": 12,
   "id": "953a1c6a-1a68-4027-bf83-402a10bd4e5a",
   "metadata": {},
   "outputs": [],
   "source": [
    "import sqlite3 as sq\n"
   ]
  },
  {
   "cell_type": "code",
   "execution_count": 14,
   "id": "948e389c-ee34-4513-89a6-0f543c01c5c7",
   "metadata": {},
   "outputs": [
    {
     "ename": "OperationalError",
     "evalue": "no such table: emp",
     "output_type": "error",
     "traceback": [
      "\u001b[1;31m---------------------------------------------------------------------------\u001b[0m",
      "\u001b[1;31mOperationalError\u001b[0m                          Traceback (most recent call last)",
      "Cell \u001b[1;32mIn[14], line 3\u001b[0m\n\u001b[0;32m      1\u001b[0m conn \u001b[38;5;241m=\u001b[39m sq\u001b[38;5;241m.\u001b[39mconnect(\u001b[38;5;124m'\u001b[39m\u001b[38;5;124myour-database-file.db\u001b[39m\u001b[38;5;124m'\u001b[39m)\n\u001b[0;32m      2\u001b[0m cursor \u001b[38;5;241m=\u001b[39m conn\u001b[38;5;241m.\u001b[39mcursor()\n\u001b[1;32m----> 3\u001b[0m \u001b[43mcursor\u001b[49m\u001b[38;5;241;43m.\u001b[39;49m\u001b[43mexecute\u001b[49m\u001b[43m(\u001b[49m\u001b[38;5;124;43m\"\u001b[39;49m\u001b[38;5;124;43mUPDATE emp SET salary = salary * 1.10 WHERE branch = \u001b[39;49m\u001b[38;5;124;43m'\u001b[39;49m\u001b[38;5;124;43mSurat\u001b[39;49m\u001b[38;5;124;43m'\u001b[39;49m\u001b[38;5;124;43m\"\u001b[39;49m\u001b[43m)\u001b[49m\n\u001b[0;32m      4\u001b[0m conn\u001b[38;5;241m.\u001b[39mcommit()\n",
      "\u001b[1;31mOperationalError\u001b[0m: no such table: emp"
     ]
    }
   ],
   "source": [
    "conn = sq.connect('your-database-file.db')\n",
    "cursor = conn.cursor()\n",
    "cursor.execute(\"UPDATE emp SET salary = salary * 1.10 WHERE branch = 'Surat'\")\n",
    "conn.commit()\n"
   ]
  },
  {
   "cell_type": "code",
   "execution_count": 4,
   "id": "36c901f0-39cd-4481-a24c-dd1eb918dbe6",
   "metadata": {},
   "outputs": [],
   "source": [
    "f=open('D:/INTERNAL/sqlite3/emp.csv','r+')"
   ]
  },
  {
   "cell_type": "code",
   "execution_count": 11,
   "id": "2e884b87-7fa4-4a7e-a4ee-668918e4eb17",
   "metadata": {},
   "outputs": [
    {
     "ename": "SyntaxError",
     "evalue": "invalid syntax. Perhaps you forgot a comma? (238304952.py, line 1)",
     "output_type": "error",
     "traceback": [
      "\u001b[1;36m  Cell \u001b[1;32mIn[11], line 1\u001b[1;36m\u001b[0m\n\u001b[1;33m    f=csv.writer(' update emp set salary=salary+10% where city='surat'')\u001b[0m\n\u001b[1;37m                 ^\u001b[0m\n\u001b[1;31mSyntaxError\u001b[0m\u001b[1;31m:\u001b[0m invalid syntax. Perhaps you forgot a comma?\n"
     ]
    }
   ],
   "source": [
    "f=csv.writer(' update emp set salary=salary+10% where city='surat'')"
   ]
  },
  {
   "cell_type": "code",
   "execution_count": null,
   "id": "edfddfe5-5ca4-4e2f-81c1-6e87b1a63ef8",
   "metadata": {},
   "outputs": [],
   "source": []
  }
 ],
 "metadata": {
  "kernelspec": {
   "display_name": "Python 3 (ipykernel)",
   "language": "python",
   "name": "python3"
  },
  "language_info": {
   "codemirror_mode": {
    "name": "ipython",
    "version": 3
   },
   "file_extension": ".py",
   "mimetype": "text/x-python",
   "name": "python",
   "nbconvert_exporter": "python",
   "pygments_lexer": "ipython3",
   "version": "3.12.4"
  }
 },
 "nbformat": 4,
 "nbformat_minor": 5
}
